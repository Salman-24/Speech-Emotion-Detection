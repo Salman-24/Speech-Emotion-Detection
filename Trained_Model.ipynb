{
  "nbformat": 4,
  "nbformat_minor": 0,
  "metadata": {
    "colab": {
      "name": "Trained_Model.ipynb",
      "provenance": []
    },
    "kernelspec": {
      "display_name": "Python 3",
      "language": "python",
      "name": "python3"
    },
    "language_info": {
      "codemirror_mode": {
        "name": "ipython",
        "version": 3
      },
      "file_extension": ".py",
      "mimetype": "text/x-python",
      "name": "python",
      "nbconvert_exporter": "python",
      "pygments_lexer": "ipython3",
      "version": "3.6.13"
    }
  },
  "cells": [
    {
      "cell_type": "code",
      "metadata": {
        "id": "KnuoyjFJjgBC"
      },
      "source": [
        "import pandas as pd\n",
        "import numpy as np\n",
        "\n",
        "import os\n",
        "import sys\n",
        "\n",
        "# librosa is a Python library for analyzing audio and music. It can be used to extract the data from the audio files we will see it later.\n",
        "import librosa\n",
        "import librosa.display\n",
        "import seaborn as sns\n",
        "import matplotlib.pyplot as plt\n",
        "\n",
        "from sklearn.preprocessing import StandardScaler, OneHotEncoder , LabelEncoder\n",
        "from sklearn.metrics import confusion_matrix, classification_report\n",
        "from sklearn.model_selection import train_test_split\n",
        "\n",
        "# to play the audio files\n",
        "from IPython.display import Audio\n",
        "\n",
        "import tensorflow as tf\n",
        "from tensorflow import keras\n",
        "from tensorflow.keras.callbacks import ReduceLROnPlateau\n",
        "from tensorflow.keras.models import Sequential\n",
        "from tensorflow.keras.layers import Dense, Conv1D, MaxPooling1D, Flatten, Dropout, BatchNormalization\n",
        "from tensorflow.keras.utils import to_categorical\n",
        "from tensorflow.keras.callbacks import ModelCheckpoint\n",
        "\n",
        "import warnings\n",
        "if not sys.warnoptions:\n",
        "    warnings.simplefilter(\"ignore\")\n",
        "warnings.filterwarnings(\"ignore\", category=DeprecationWarning) \n"
      ],
      "execution_count": 1,
      "outputs": []
    },
    {
      "cell_type": "code",
      "metadata": {
        "colab": {
          "base_uri": "https://localhost:8080/"
        },
        "id": "RdnFYexXjiRD",
        "outputId": "6ac37433-349a-4c99-dd3e-3df5df405502"
      },
      "source": [
        "from google.colab import drive\n",
        "drive.mount('/content/gdrive')"
      ],
      "execution_count": 2,
      "outputs": [
        {
          "output_type": "stream",
          "text": [
            "Mounted at /content/gdrive\n"
          ],
          "name": "stdout"
        }
      ]
    },
    {
      "cell_type": "code",
      "metadata": {
        "id": "IxaJTdOjjnXl"
      },
      "source": [
        "!unzip -q \"/content/gdrive/MyDrive/wavs.zip\""
      ],
      "execution_count": 3,
      "outputs": []
    },
    {
      "cell_type": "code",
      "metadata": {
        "id": "Eq5sQBHajy75"
      },
      "source": [
        "wavs=\"wavs\""
      ],
      "execution_count": 4,
      "outputs": []
    },
    {
      "cell_type": "code",
      "metadata": {
        "colab": {
          "resources": {
            "http://localhost:8080/nbextensions/google.colab/files.js": {
              "data": "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",
              "ok": true,
              "headers": [
                [
                  "content-type",
                  "application/javascript"
                ]
              ],
              "status": 200,
              "status_text": ""
            }
          },
          "base_uri": "https://localhost:8080/",
          "height": 90
        },
        "id": "CzSHZYAmmW5_",
        "outputId": "9d42ad8c-54b1-4825-fd4b-66c26ecb1dca"
      },
      "source": [
        "from google.colab import files\n",
        "\n",
        "uploaded = files.upload()"
      ],
      "execution_count": 5,
      "outputs": [
        {
          "output_type": "display_data",
          "data": {
            "text/html": [
              "\n",
              "     <input type=\"file\" id=\"files-269503dd-a6c1-471b-8c53-0eb5f5581a5a\" name=\"files[]\" multiple disabled\n",
              "        style=\"border:none\" />\n",
              "     <output id=\"result-269503dd-a6c1-471b-8c53-0eb5f5581a5a\">\n",
              "      Upload widget is only available when the cell has been executed in the\n",
              "      current browser session. Please rerun this cell to enable.\n",
              "      </output>\n",
              "      <script src=\"/nbextensions/google.colab/files.js\"></script> "
            ],
            "text/plain": [
              "<IPython.core.display.HTML object>"
            ]
          },
          "metadata": {
            "tags": []
          }
        },
        {
          "output_type": "stream",
          "text": [
            "Saving Session1.xlsx to Session1.xlsx\n"
          ],
          "name": "stdout"
        }
      ]
    },
    {
      "cell_type": "code",
      "metadata": {
        "id": "zUSgfoB4CILu"
      },
      "source": [
        "wavs_df=pd.read_excel(\"Session1.xlsx\", engine='openpyxl')"
      ],
      "execution_count": 6,
      "outputs": []
    },
    {
      "cell_type": "code",
      "metadata": {
        "id": "VYSZaww0CSQp"
      },
      "source": [
        "wavs_df['wav_file']= '/' + 'content' + '/' + 'wavs' + '/' + wavs_df['wav_file'].astype(str) + '.wav'"
      ],
      "execution_count": 7,
      "outputs": []
    },
    {
      "cell_type": "code",
      "metadata": {
        "id": "6uuH07L1CWmN"
      },
      "source": [
        "data_path=wavs_df.drop(columns=['start_time', 'end_time','val','act','dom'])"
      ],
      "execution_count": 8,
      "outputs": []
    },
    {
      "cell_type": "code",
      "metadata": {
        "colab": {
          "base_uri": "https://localhost:8080/",
          "height": 417
        },
        "id": "WepdU8PACYCd",
        "outputId": "3dd16379-aae8-469e-fe56-d38e879f14c8"
      },
      "source": [
        "data_path"
      ],
      "execution_count": 9,
      "outputs": [
        {
          "output_type": "execute_result",
          "data": {
            "text/html": [
              "<div>\n",
              "<style scoped>\n",
              "    .dataframe tbody tr th:only-of-type {\n",
              "        vertical-align: middle;\n",
              "    }\n",
              "\n",
              "    .dataframe tbody tr th {\n",
              "        vertical-align: top;\n",
              "    }\n",
              "\n",
              "    .dataframe thead th {\n",
              "        text-align: right;\n",
              "    }\n",
              "</style>\n",
              "<table border=\"1\" class=\"dataframe\">\n",
              "  <thead>\n",
              "    <tr style=\"text-align: right;\">\n",
              "      <th></th>\n",
              "      <th>Unnamed: 0</th>\n",
              "      <th>wav_file</th>\n",
              "      <th>emotion</th>\n",
              "    </tr>\n",
              "  </thead>\n",
              "  <tbody>\n",
              "    <tr>\n",
              "      <th>0</th>\n",
              "      <td>0</td>\n",
              "      <td>/content/wavs/Ses01F_impro04_F000.wav</td>\n",
              "      <td>neu</td>\n",
              "    </tr>\n",
              "    <tr>\n",
              "      <th>1</th>\n",
              "      <td>1</td>\n",
              "      <td>/content/wavs/Ses01F_impro04_F001.wav</td>\n",
              "      <td>neu</td>\n",
              "    </tr>\n",
              "    <tr>\n",
              "      <th>2</th>\n",
              "      <td>2</td>\n",
              "      <td>/content/wavs/Ses01F_impro04_F002.wav</td>\n",
              "      <td>fru</td>\n",
              "    </tr>\n",
              "    <tr>\n",
              "      <th>3</th>\n",
              "      <td>5</td>\n",
              "      <td>/content/wavs/Ses01F_impro04_F005.wav</td>\n",
              "      <td>neu</td>\n",
              "    </tr>\n",
              "    <tr>\n",
              "      <th>4</th>\n",
              "      <td>6</td>\n",
              "      <td>/content/wavs/Ses01F_impro04_F006.wav</td>\n",
              "      <td>neu</td>\n",
              "    </tr>\n",
              "    <tr>\n",
              "      <th>...</th>\n",
              "      <td>...</td>\n",
              "      <td>...</td>\n",
              "      <td>...</td>\n",
              "    </tr>\n",
              "    <tr>\n",
              "      <th>7375</th>\n",
              "      <td>2162</td>\n",
              "      <td>/content/wavs/Ses05M_impro02_M025.wav</td>\n",
              "      <td>sad</td>\n",
              "    </tr>\n",
              "    <tr>\n",
              "      <th>7376</th>\n",
              "      <td>2164</td>\n",
              "      <td>/content/wavs/Ses05M_impro02_M027.wav</td>\n",
              "      <td>sad</td>\n",
              "    </tr>\n",
              "    <tr>\n",
              "      <th>7377</th>\n",
              "      <td>2165</td>\n",
              "      <td>/content/wavs/Ses05M_impro02_M028.wav</td>\n",
              "      <td>sad</td>\n",
              "    </tr>\n",
              "    <tr>\n",
              "      <th>7378</th>\n",
              "      <td>2166</td>\n",
              "      <td>/content/wavs/Ses05M_impro02_M029.wav</td>\n",
              "      <td>sad</td>\n",
              "    </tr>\n",
              "    <tr>\n",
              "      <th>7379</th>\n",
              "      <td>2167</td>\n",
              "      <td>/content/wavs/Ses05M_impro02_M030.wav</td>\n",
              "      <td>exc</td>\n",
              "    </tr>\n",
              "  </tbody>\n",
              "</table>\n",
              "<p>7380 rows × 3 columns</p>\n",
              "</div>"
            ],
            "text/plain": [
              "      Unnamed: 0                               wav_file emotion\n",
              "0              0  /content/wavs/Ses01F_impro04_F000.wav     neu\n",
              "1              1  /content/wavs/Ses01F_impro04_F001.wav     neu\n",
              "2              2  /content/wavs/Ses01F_impro04_F002.wav     fru\n",
              "3              5  /content/wavs/Ses01F_impro04_F005.wav     neu\n",
              "4              6  /content/wavs/Ses01F_impro04_F006.wav     neu\n",
              "...          ...                                    ...     ...\n",
              "7375        2162  /content/wavs/Ses05M_impro02_M025.wav     sad\n",
              "7376        2164  /content/wavs/Ses05M_impro02_M027.wav     sad\n",
              "7377        2165  /content/wavs/Ses05M_impro02_M028.wav     sad\n",
              "7378        2166  /content/wavs/Ses05M_impro02_M029.wav     sad\n",
              "7379        2167  /content/wavs/Ses05M_impro02_M030.wav     exc\n",
              "\n",
              "[7380 rows x 3 columns]"
            ]
          },
          "metadata": {
            "tags": []
          },
          "execution_count": 9
        }
      ]
    },
    {
      "cell_type": "code",
      "metadata": {
        "id": "9C_UjlNxCZwm"
      },
      "source": [
        "def extract_features(data):\n",
        "    \n",
        "    result = np.array([])\n",
        "    # MFCC\n",
        "    mfcc = np.mean(librosa.feature.mfcc(y=data).T, axis=0)\n",
        "    result = np.hstack((result, mfcc))\n",
        "    # MelSpectogram\n",
        "    mel = np.mean(librosa.feature.melspectrogram(y=data).T, axis=0)\n",
        "    result = np.hstack((result, mel))\n",
        "    \n",
        "    return result\n",
        "\n",
        "def get_features(path):\n",
        "    data, sample_rate = librosa.load(path)\n",
        "    res1 = extract_features(data)\n",
        "    result = np.array(res1)\n",
        "    result = np.vstack((result, res1)) \n",
        "    \n",
        "    return result\n"
      ],
      "execution_count": 10,
      "outputs": []
    },
    {
      "cell_type": "code",
      "metadata": {
        "id": "q2UfXLySD-nE"
      },
      "source": [
        "X, Y = [], []\n",
        "for path, emotion in (zip(data_path.wav_file, data_path.emotion)):\n",
        "    soundpath = path.split('/')\n",
        "    \n",
        "    path = os.path.join(wavs,soundpath[-1])\n",
        "    feature = get_features(path)\n",
        "    for ele in feature:\n",
        "        X.append(ele)\n",
        "        Y.append(emotion)"
      ],
      "execution_count": 11,
      "outputs": []
    },
    {
      "cell_type": "code",
      "metadata": {
        "id": "fp7QahkhEEDf"
      },
      "source": [
        "Features = pd.DataFrame(X)\n",
        "Features['labels'] = Y\n",
        "Features.to_csv('features5.csv', index=False)\n",
        "Features.head()\n",
        "Features=pd.read_csv('features5.csv')"
      ],
      "execution_count": 12,
      "outputs": []
    },
    {
      "cell_type": "code",
      "metadata": {
        "id": "nfae_G9JOoN4"
      },
      "source": [
        "X = Features.iloc[: ,:-1].values\n",
        "Y = Features['labels'].values"
      ],
      "execution_count": 13,
      "outputs": []
    },
    {
      "cell_type": "code",
      "metadata": {
        "id": "VyyvaiVMOsJx"
      },
      "source": [
        "encoder = LabelEncoder()\n",
        "Y = encoder.fit_transform(Y)"
      ],
      "execution_count": 17,
      "outputs": []
    },
    {
      "cell_type": "code",
      "metadata": {
        "id": "edXrjE9pPHxR",
        "colab": {
          "base_uri": "https://localhost:8080/"
        },
        "outputId": "0ccff507-17b4-4dd4-c535-e429c41c893b"
      },
      "source": [
        "Y[0]"
      ],
      "execution_count": 18,
      "outputs": [
        {
          "output_type": "execute_result",
          "data": {
            "text/plain": [
              "4"
            ]
          },
          "metadata": {
            "tags": []
          },
          "execution_count": 18
        }
      ]
    },
    {
      "cell_type": "code",
      "metadata": {
        "id": "TsxUdyW1b4QO"
      },
      "source": [
        "import pickle\n",
        "output = open('encoder.pkl', 'wb')\n",
        "pickle.dump(encoder, output)\n",
        "output.close()"
      ],
      "execution_count": 19,
      "outputs": []
    },
    {
      "cell_type": "code",
      "metadata": {
        "colab": {
          "base_uri": "https://localhost:8080/"
        },
        "id": "jGxTJK-uOxDm",
        "outputId": "6d37d87b-b2db-4128-b0c0-44f2cdff9c6c"
      },
      "source": [
        "# splitting data\n",
        "x_train, x_test, y_train, y_test = train_test_split(X, Y, random_state=0, shuffle=True)\n",
        "x_train.shape, y_train.shape, x_test.shape, y_test.shape"
      ],
      "execution_count": 21,
      "outputs": [
        {
          "output_type": "execute_result",
          "data": {
            "text/plain": [
              "((11070, 148), (11070,), (3690, 148), (3690,))"
            ]
          },
          "metadata": {
            "tags": []
          },
          "execution_count": 21
        }
      ]
    },
    {
      "cell_type": "code",
      "metadata": {
        "id": "wuqY00tuO02J"
      },
      "source": [
        "scaler = StandardScaler()\n",
        "x_train = scaler.fit_transform(x_train)\n",
        "output1 = open('scaler.pkl', 'wb')\n",
        "pickle.dump(scaler, output1)\n",
        "output1.close()\n"
      ],
      "execution_count": 22,
      "outputs": []
    },
    {
      "cell_type": "code",
      "metadata": {
        "id": "P7_hO4bTf_75"
      },
      "source": [
        "x_test = scaler.transform(x_test)\n",
        "x_train.shape, y_train.shape, x_test.shape, y_test.shape"
      ],
      "execution_count": null,
      "outputs": []
    },
    {
      "cell_type": "code",
      "metadata": {
        "colab": {
          "base_uri": "https://localhost:8080/"
        },
        "id": "DM00Ry4hO4FR",
        "outputId": "b337005b-06db-490e-bbc6-1417254c44f5"
      },
      "source": [
        "# making our data compatible to model.\n",
        "x_train = np.expand_dims(x_train, axis=2)\n",
        "x_test = np.expand_dims(x_test, axis=2)\n",
        "x_train.shape, y_train.shape, x_test.shape, y_test.shape"
      ],
      "execution_count": null,
      "outputs": [
        {
          "output_type": "execute_result",
          "data": {
            "text/plain": [
              "((11070, 148, 1), (11070,), (3690, 148, 1), (3690,))"
            ]
          },
          "metadata": {
            "tags": []
          },
          "execution_count": 20
        }
      ]
    },
    {
      "cell_type": "code",
      "metadata": {
        "id": "PKrWVazgO8Vp",
        "colab": {
          "base_uri": "https://localhost:8080/"
        },
        "outputId": "6a6e5b5a-c226-478e-e7b2-05c915cb3839"
      },
      "source": [
        "model=Sequential()\n",
        "model.add(Conv1D(256, kernel_size=5, strides=1, padding='same', activation='relu', input_shape=(x_train.shape[1], 1)))\n",
        "model.add(MaxPooling1D(pool_size=5, strides = 2, padding = 'same'))\n",
        "\n",
        "model.add(tf.keras.layers.BatchNormalization())\n",
        "\n",
        "model.add(Conv1D(256, kernel_size=5, strides=1, padding='same', activation='relu'))\n",
        "model.add(MaxPooling1D(pool_size=5, strides = 2, padding = 'same'))\n",
        "\n",
        "model.add(tf.keras.layers.BatchNormalization())\n",
        "\n",
        "model.add(Conv1D(128, kernel_size=5, strides=1, padding='same', activation='relu'))\n",
        "model.add(MaxPooling1D(pool_size=5, strides = 2, padding = 'same'))\n",
        "model.add(Dropout(0.2))\n",
        "\n",
        "model.add(tf.keras.layers.BatchNormalization())\n",
        "\n",
        "model.add(Conv1D(64, kernel_size=5, strides=1, padding='same', activation='relu'))\n",
        "model.add(MaxPooling1D(pool_size=5, strides = 2, padding = 'same'))\n",
        "\n",
        "model.add(tf.keras.layers.BatchNormalization())\n",
        "\n",
        "model.add(Flatten())\n",
        "model.add(Dense(units=32, activation='relu'))\n",
        "model.add(Dropout(0.3))\n",
        "\n",
        "model.add(Dense(units=6, activation='softmax'))\n",
        "model.compile(optimizer = 'adam' , loss = 'sparse_categorical_crossentropy' , metrics = ['accuracy'])\n",
        "\n",
        "model.summary()"
      ],
      "execution_count": null,
      "outputs": [
        {
          "output_type": "stream",
          "text": [
            "Model: \"sequential\"\n",
            "_________________________________________________________________\n",
            "Layer (type)                 Output Shape              Param #   \n",
            "=================================================================\n",
            "conv1d (Conv1D)              (None, 148, 256)          1536      \n",
            "_________________________________________________________________\n",
            "max_pooling1d (MaxPooling1D) (None, 74, 256)           0         \n",
            "_________________________________________________________________\n",
            "batch_normalization (BatchNo (None, 74, 256)           1024      \n",
            "_________________________________________________________________\n",
            "conv1d_1 (Conv1D)            (None, 74, 256)           327936    \n",
            "_________________________________________________________________\n",
            "max_pooling1d_1 (MaxPooling1 (None, 37, 256)           0         \n",
            "_________________________________________________________________\n",
            "batch_normalization_1 (Batch (None, 37, 256)           1024      \n",
            "_________________________________________________________________\n",
            "conv1d_2 (Conv1D)            (None, 37, 128)           163968    \n",
            "_________________________________________________________________\n",
            "max_pooling1d_2 (MaxPooling1 (None, 19, 128)           0         \n",
            "_________________________________________________________________\n",
            "dropout (Dropout)            (None, 19, 128)           0         \n",
            "_________________________________________________________________\n",
            "batch_normalization_2 (Batch (None, 19, 128)           512       \n",
            "_________________________________________________________________\n",
            "conv1d_3 (Conv1D)            (None, 19, 64)            41024     \n",
            "_________________________________________________________________\n",
            "max_pooling1d_3 (MaxPooling1 (None, 10, 64)            0         \n",
            "_________________________________________________________________\n",
            "batch_normalization_3 (Batch (None, 10, 64)            256       \n",
            "_________________________________________________________________\n",
            "flatten (Flatten)            (None, 640)               0         \n",
            "_________________________________________________________________\n",
            "dense (Dense)                (None, 32)                20512     \n",
            "_________________________________________________________________\n",
            "dropout_1 (Dropout)          (None, 32)                0         \n",
            "_________________________________________________________________\n",
            "dense_1 (Dense)              (None, 6)                 198       \n",
            "=================================================================\n",
            "Total params: 557,990\n",
            "Trainable params: 556,582\n",
            "Non-trainable params: 1,408\n",
            "_________________________________________________________________\n"
          ],
          "name": "stdout"
        }
      ]
    },
    {
      "cell_type": "code",
      "metadata": {
        "id": "CMV1UYhqO_z1",
        "colab": {
          "base_uri": "https://localhost:8080/"
        },
        "outputId": "57067c4c-959a-49f8-bfb0-c5486ca6b600"
      },
      "source": [
        "rlrp = ReduceLROnPlateau(monitor='loss', factor=0.4, verbose=0, patience=2, min_lr=0.0000001)\n",
        "es =  tf.keras.callbacks.EarlyStopping(\n",
        "        # Stop training when `val_loss` is no longer improving\n",
        "        monitor=\"val_loss\",\n",
        "        # \"no longer improving\" being defined as \"no better than 1e-2 less\"\n",
        "        min_delta=1e-2,\n",
        "        # \"no longer improving\" being further defined as \"for at least 2 epochs\"\n",
        "        patience=25,\n",
        "        verbose=1,\n",
        "    )\n",
        "history=model.fit(x_train, y_train, batch_size=64, epochs=500, validation_data=(x_test, y_test), callbacks=[rlrp,es])"
      ],
      "execution_count": null,
      "outputs": [
        {
          "output_type": "stream",
          "text": [
            "Epoch 1/500\n",
            "173/173 [==============================] - 53s 299ms/step - loss: 1.6270 - accuracy: 0.3196 - val_loss: 1.9301 - val_accuracy: 0.2854\n",
            "Epoch 2/500\n",
            "173/173 [==============================] - 53s 305ms/step - loss: 1.5480 - accuracy: 0.3591 - val_loss: 1.8618 - val_accuracy: 0.2940\n",
            "Epoch 3/500\n",
            "173/173 [==============================] - 53s 305ms/step - loss: 1.5255 - accuracy: 0.3676 - val_loss: 1.4818 - val_accuracy: 0.3946\n",
            "Epoch 4/500\n",
            "173/173 [==============================] - 51s 292ms/step - loss: 1.5013 - accuracy: 0.3816 - val_loss: 1.4938 - val_accuracy: 0.3759\n",
            "Epoch 5/500\n",
            "173/173 [==============================] - 51s 294ms/step - loss: 1.4836 - accuracy: 0.3932 - val_loss: 1.4577 - val_accuracy: 0.3894\n",
            "Epoch 6/500\n",
            "173/173 [==============================] - 52s 300ms/step - loss: 1.4697 - accuracy: 0.4019 - val_loss: 1.4434 - val_accuracy: 0.4214\n",
            "Epoch 7/500\n",
            "173/173 [==============================] - 51s 298ms/step - loss: 1.4471 - accuracy: 0.4142 - val_loss: 1.4152 - val_accuracy: 0.4309\n",
            "Epoch 8/500\n",
            "173/173 [==============================] - 51s 296ms/step - loss: 1.4368 - accuracy: 0.4145 - val_loss: 1.4215 - val_accuracy: 0.4176\n",
            "Epoch 9/500\n",
            "173/173 [==============================] - 53s 305ms/step - loss: 1.4219 - accuracy: 0.4204 - val_loss: 1.5952 - val_accuracy: 0.3371\n",
            "Epoch 10/500\n",
            "173/173 [==============================] - 53s 304ms/step - loss: 1.4130 - accuracy: 0.4326 - val_loss: 1.4118 - val_accuracy: 0.4312\n",
            "Epoch 11/500\n",
            "173/173 [==============================] - 51s 297ms/step - loss: 1.3994 - accuracy: 0.4309 - val_loss: 1.4238 - val_accuracy: 0.4179\n",
            "Epoch 12/500\n",
            "173/173 [==============================] - 51s 297ms/step - loss: 1.3904 - accuracy: 0.4453 - val_loss: 1.4546 - val_accuracy: 0.4152\n",
            "Epoch 13/500\n",
            "173/173 [==============================] - 51s 294ms/step - loss: 1.3729 - accuracy: 0.4432 - val_loss: 1.4094 - val_accuracy: 0.4295\n",
            "Epoch 14/500\n",
            "173/173 [==============================] - 51s 292ms/step - loss: 1.3636 - accuracy: 0.4549 - val_loss: 1.4129 - val_accuracy: 0.4328\n",
            "Epoch 15/500\n",
            "173/173 [==============================] - 51s 294ms/step - loss: 1.3476 - accuracy: 0.4607 - val_loss: 1.3881 - val_accuracy: 0.4518\n",
            "Epoch 16/500\n",
            "173/173 [==============================] - 50s 291ms/step - loss: 1.3390 - accuracy: 0.4712 - val_loss: 1.4732 - val_accuracy: 0.3981\n",
            "Epoch 17/500\n",
            "173/173 [==============================] - 50s 290ms/step - loss: 1.3242 - accuracy: 0.4739 - val_loss: 1.4649 - val_accuracy: 0.4084\n",
            "Epoch 18/500\n",
            "173/173 [==============================] - 50s 290ms/step - loss: 1.3074 - accuracy: 0.4801 - val_loss: 1.3809 - val_accuracy: 0.4542\n",
            "Epoch 19/500\n",
            "173/173 [==============================] - 52s 298ms/step - loss: 1.2883 - accuracy: 0.4923 - val_loss: 1.3639 - val_accuracy: 0.4599\n",
            "Epoch 20/500\n",
            "173/173 [==============================] - 52s 301ms/step - loss: 1.2579 - accuracy: 0.5027 - val_loss: 1.3295 - val_accuracy: 0.4669\n",
            "Epoch 21/500\n",
            "173/173 [==============================] - 51s 297ms/step - loss: 1.2411 - accuracy: 0.5119 - val_loss: 1.3664 - val_accuracy: 0.4645\n",
            "Epoch 22/500\n",
            "173/173 [==============================] - 50s 292ms/step - loss: 1.2065 - accuracy: 0.5290 - val_loss: 1.3626 - val_accuracy: 0.4610\n",
            "Epoch 23/500\n",
            "173/173 [==============================] - 52s 302ms/step - loss: 1.1881 - accuracy: 0.5355 - val_loss: 1.3723 - val_accuracy: 0.4526\n",
            "Epoch 24/500\n",
            "173/173 [==============================] - 53s 309ms/step - loss: 1.1544 - accuracy: 0.5518 - val_loss: 1.3041 - val_accuracy: 0.4870\n",
            "Epoch 25/500\n",
            "173/173 [==============================] - 52s 299ms/step - loss: 1.1340 - accuracy: 0.5612 - val_loss: 1.2847 - val_accuracy: 0.5003\n",
            "Epoch 26/500\n",
            "173/173 [==============================] - 52s 300ms/step - loss: 1.1007 - accuracy: 0.5746 - val_loss: 1.3080 - val_accuracy: 0.4886\n",
            "Epoch 27/500\n",
            "173/173 [==============================] - 51s 297ms/step - loss: 1.0651 - accuracy: 0.5871 - val_loss: 1.2287 - val_accuracy: 0.5160\n",
            "Epoch 28/500\n",
            "173/173 [==============================] - 50s 291ms/step - loss: 1.0198 - accuracy: 0.6076 - val_loss: 1.2448 - val_accuracy: 0.5171\n",
            "Epoch 29/500\n",
            "173/173 [==============================] - 50s 287ms/step - loss: 0.9967 - accuracy: 0.6110 - val_loss: 1.3369 - val_accuracy: 0.4824\n",
            "Epoch 30/500\n",
            "173/173 [==============================] - 50s 290ms/step - loss: 0.9484 - accuracy: 0.6355 - val_loss: 1.2348 - val_accuracy: 0.5398\n",
            "Epoch 31/500\n",
            "173/173 [==============================] - 49s 285ms/step - loss: 0.9374 - accuracy: 0.6386 - val_loss: 1.2377 - val_accuracy: 0.5293\n",
            "Epoch 32/500\n",
            "173/173 [==============================] - 50s 290ms/step - loss: 0.9020 - accuracy: 0.6591 - val_loss: 1.2532 - val_accuracy: 0.5136\n",
            "Epoch 33/500\n",
            "173/173 [==============================] - 50s 290ms/step - loss: 0.8414 - accuracy: 0.6838 - val_loss: 1.3175 - val_accuracy: 0.5295\n",
            "Epoch 34/500\n",
            "173/173 [==============================] - 49s 284ms/step - loss: 0.8043 - accuracy: 0.6930 - val_loss: 1.2623 - val_accuracy: 0.5686\n",
            "Epoch 35/500\n",
            "173/173 [==============================] - 50s 288ms/step - loss: 0.7706 - accuracy: 0.7090 - val_loss: 1.1986 - val_accuracy: 0.5911\n",
            "Epoch 36/500\n",
            "173/173 [==============================] - 50s 289ms/step - loss: 0.7299 - accuracy: 0.7267 - val_loss: 1.1472 - val_accuracy: 0.6003\n",
            "Epoch 37/500\n",
            "173/173 [==============================] - 50s 287ms/step - loss: 0.6820 - accuracy: 0.7421 - val_loss: 1.6239 - val_accuracy: 0.4837\n",
            "Epoch 38/500\n",
            "173/173 [==============================] - 50s 289ms/step - loss: 0.6663 - accuracy: 0.7501 - val_loss: 1.2531 - val_accuracy: 0.5992\n",
            "Epoch 39/500\n",
            "173/173 [==============================] - 50s 290ms/step - loss: 0.6438 - accuracy: 0.7603 - val_loss: 1.2313 - val_accuracy: 0.5997\n",
            "Epoch 40/500\n",
            "173/173 [==============================] - 50s 289ms/step - loss: 0.5910 - accuracy: 0.7821 - val_loss: 1.0680 - val_accuracy: 0.6561\n",
            "Epoch 41/500\n",
            "173/173 [==============================] - 49s 286ms/step - loss: 0.5649 - accuracy: 0.7928 - val_loss: 1.2113 - val_accuracy: 0.6347\n",
            "Epoch 42/500\n",
            "173/173 [==============================] - 49s 284ms/step - loss: 0.5383 - accuracy: 0.8011 - val_loss: 1.1157 - val_accuracy: 0.6588\n",
            "Epoch 43/500\n",
            "173/173 [==============================] - 49s 285ms/step - loss: 0.5112 - accuracy: 0.8128 - val_loss: 1.0370 - val_accuracy: 0.6802\n",
            "Epoch 44/500\n",
            "173/173 [==============================] - 48s 278ms/step - loss: 0.5017 - accuracy: 0.8192 - val_loss: 1.0345 - val_accuracy: 0.6835\n",
            "Epoch 45/500\n",
            "173/173 [==============================] - 48s 280ms/step - loss: 0.4568 - accuracy: 0.8359 - val_loss: 1.0679 - val_accuracy: 0.6878\n",
            "Epoch 46/500\n",
            "173/173 [==============================] - 49s 283ms/step - loss: 0.4348 - accuracy: 0.8435 - val_loss: 1.1664 - val_accuracy: 0.6558\n",
            "Epoch 47/500\n",
            "173/173 [==============================] - 49s 283ms/step - loss: 0.4116 - accuracy: 0.8559 - val_loss: 1.0947 - val_accuracy: 0.6892\n",
            "Epoch 48/500\n",
            "173/173 [==============================] - 49s 284ms/step - loss: 0.4044 - accuracy: 0.8558 - val_loss: 0.9874 - val_accuracy: 0.7130\n",
            "Epoch 49/500\n",
            "173/173 [==============================] - 49s 285ms/step - loss: 0.3882 - accuracy: 0.8606 - val_loss: 1.0281 - val_accuracy: 0.7390\n",
            "Epoch 50/500\n",
            "173/173 [==============================] - 50s 289ms/step - loss: 0.3646 - accuracy: 0.8716 - val_loss: 1.0639 - val_accuracy: 0.7203\n",
            "Epoch 51/500\n",
            "173/173 [==============================] - 50s 288ms/step - loss: 0.3372 - accuracy: 0.8821 - val_loss: 1.1556 - val_accuracy: 0.6957\n",
            "Epoch 52/500\n",
            "173/173 [==============================] - 49s 284ms/step - loss: 0.3331 - accuracy: 0.8805 - val_loss: 1.1258 - val_accuracy: 0.7220\n",
            "Epoch 53/500\n",
            "173/173 [==============================] - 50s 289ms/step - loss: 0.3242 - accuracy: 0.8845 - val_loss: 1.1739 - val_accuracy: 0.7125\n",
            "Epoch 54/500\n",
            "173/173 [==============================] - 50s 291ms/step - loss: 0.2815 - accuracy: 0.9025 - val_loss: 1.0473 - val_accuracy: 0.7393\n",
            "Epoch 55/500\n",
            "173/173 [==============================] - 52s 299ms/step - loss: 0.2905 - accuracy: 0.9010 - val_loss: 1.0506 - val_accuracy: 0.7566\n",
            "Epoch 56/500\n",
            "173/173 [==============================] - 51s 296ms/step - loss: 0.2771 - accuracy: 0.9042 - val_loss: 1.0915 - val_accuracy: 0.7377\n",
            "Epoch 57/500\n",
            "173/173 [==============================] - 52s 298ms/step - loss: 0.2571 - accuracy: 0.9114 - val_loss: 1.0350 - val_accuracy: 0.7450\n",
            "Epoch 58/500\n",
            "173/173 [==============================] - 51s 294ms/step - loss: 0.2587 - accuracy: 0.9132 - val_loss: 1.2728 - val_accuracy: 0.7182\n",
            "Epoch 59/500\n",
            "173/173 [==============================] - 50s 290ms/step - loss: 0.2492 - accuracy: 0.9145 - val_loss: 1.0580 - val_accuracy: 0.7780\n",
            "Epoch 60/500\n",
            "173/173 [==============================] - 51s 295ms/step - loss: 0.2549 - accuracy: 0.9097 - val_loss: 1.0296 - val_accuracy: 0.7683\n",
            "Epoch 61/500\n",
            "173/173 [==============================] - 52s 302ms/step - loss: 0.2391 - accuracy: 0.9210 - val_loss: 1.1214 - val_accuracy: 0.7656\n",
            "Epoch 62/500\n",
            "173/173 [==============================] - 52s 299ms/step - loss: 0.2299 - accuracy: 0.9228 - val_loss: 1.0615 - val_accuracy: 0.7753\n",
            "Epoch 63/500\n",
            "173/173 [==============================] - 50s 290ms/step - loss: 0.2130 - accuracy: 0.9270 - val_loss: 1.0622 - val_accuracy: 0.7634\n",
            "Epoch 64/500\n",
            "173/173 [==============================] - 50s 288ms/step - loss: 0.2092 - accuracy: 0.9328 - val_loss: 1.0566 - val_accuracy: 0.7883\n",
            "Epoch 65/500\n",
            "173/173 [==============================] - 50s 288ms/step - loss: 0.1874 - accuracy: 0.9388 - val_loss: 1.1192 - val_accuracy: 0.7588\n",
            "Epoch 66/500\n",
            "173/173 [==============================] - 50s 287ms/step - loss: 0.2095 - accuracy: 0.9306 - val_loss: 1.0963 - val_accuracy: 0.7799\n",
            "Epoch 67/500\n",
            "173/173 [==============================] - 50s 287ms/step - loss: 0.2114 - accuracy: 0.9300 - val_loss: 1.1320 - val_accuracy: 0.7680\n",
            "Epoch 68/500\n",
            "173/173 [==============================] - 50s 287ms/step - loss: 0.1188 - accuracy: 0.9619 - val_loss: 1.0299 - val_accuracy: 0.8228\n",
            "Epoch 69/500\n",
            "173/173 [==============================] - 49s 285ms/step - loss: 0.0832 - accuracy: 0.9721 - val_loss: 1.1914 - val_accuracy: 0.8298\n",
            "Epoch 70/500\n",
            "173/173 [==============================] - 50s 291ms/step - loss: 0.0763 - accuracy: 0.9736 - val_loss: 1.1532 - val_accuracy: 0.8320\n",
            "Epoch 71/500\n",
            "173/173 [==============================] - 51s 294ms/step - loss: 0.0737 - accuracy: 0.9768 - val_loss: 1.2406 - val_accuracy: 0.8276\n",
            "Epoch 72/500\n",
            "173/173 [==============================] - 50s 290ms/step - loss: 0.0730 - accuracy: 0.9772 - val_loss: 1.2280 - val_accuracy: 0.8352\n",
            "Epoch 73/500\n",
            "173/173 [==============================] - 50s 289ms/step - loss: 0.0680 - accuracy: 0.9788 - val_loss: 1.2379 - val_accuracy: 0.8322\n",
            "Epoch 00073: early stopping\n"
          ],
          "name": "stdout"
        }
      ]
    },
    {
      "cell_type": "code",
      "metadata": {
        "id": "yLqfsxXrPHxT",
        "colab": {
          "base_uri": "https://localhost:8080/"
        },
        "outputId": "dd5d18f1-a46d-4121-d72a-dc8d7f71410e"
      },
      "source": [
        "len(history.history['accuracy'])"
      ],
      "execution_count": null,
      "outputs": [
        {
          "output_type": "execute_result",
          "data": {
            "text/plain": [
              "73"
            ]
          },
          "metadata": {
            "tags": []
          },
          "execution_count": 23
        }
      ]
    },
    {
      "cell_type": "code",
      "metadata": {
        "colab": {
          "base_uri": "https://localhost:8080/"
        },
        "id": "NsehmBuIGa_3",
        "outputId": "6ba928ab-a06f-4ed7-ae70-8b5653258eeb"
      },
      "source": [
        "history"
      ],
      "execution_count": null,
      "outputs": [
        {
          "output_type": "execute_result",
          "data": {
            "text/plain": [
              "<tensorflow.python.keras.callbacks.History at 0x7fca20059a10>"
            ]
          },
          "metadata": {
            "tags": []
          },
          "execution_count": 24
        }
      ]
    },
    {
      "cell_type": "code",
      "metadata": {
        "id": "spnVd6MwPFUV",
        "colab": {
          "base_uri": "https://localhost:8080/",
          "height": 424
        },
        "outputId": "021d842b-45eb-44a7-a61d-45db6cdc1271"
      },
      "source": [
        "print(\"Accuracy of our model on test data : \" , model.evaluate(x_test,y_test)[1]*100 , \"%\")\n",
        "\n",
        "# epochs = [i for i in range(model.nb_epochs)]\n",
        "epochs = history.epoch\n",
        "fig , ax = plt.subplots(1,2)\n",
        "train_acc = history.history['accuracy']\n",
        "train_loss = history.history['loss']\n",
        "test_acc = history.history['val_accuracy']\n",
        "test_loss = history.history['val_loss']\n",
        "\n",
        "fig.set_size_inches(20,6)\n",
        "ax[0].plot(epochs , train_loss , label = 'Training Loss')\n",
        "ax[0].plot(epochs , test_loss , label = 'Testing Loss')\n",
        "ax[0].set_title('Training & Testing Loss')\n",
        "ax[0].legend()\n",
        "ax[0].set_xlabel(\"Epochs\")\n",
        "\n",
        "ax[1].plot(epochs , train_acc , label = 'Training Accuracy')\n",
        "ax[1].plot(epochs , test_acc , label = 'Testing Accuracy')\n",
        "ax[1].set_title('Training & Testing Accuracy')\n",
        "ax[1].legend()\n",
        "ax[1].set_xlabel(\"Epochs\")\n",
        "plt.show()"
      ],
      "execution_count": null,
      "outputs": [
        {
          "output_type": "stream",
          "text": [
            "116/116 [==============================] - 5s 41ms/step - loss: 1.3050 - accuracy: 0.8442\n",
            "Accuracy of our model on test data :  84.41734313964844 %\n"
          ],
          "name": "stdout"
        },
        {
          "output_type": "display_data",
          "data": {
            "image/png": "[encoded data removed]",
            "text/plain": [
              "<Figure size 1440x432 with 2 Axes>"
            ]
          },
          "metadata": {
            "tags": [],
            "needs_background": "light"
          }
        }
      ]
    },
    {
      "cell_type": "code",
      "metadata": {
        "colab": {
          "base_uri": "https://localhost:8080/"
        },
        "id": "xVSHA5LXdQJJ",
        "outputId": "87c47cd1-1574-4cb0-8c87-ad9582658e46"
      },
      "source": [
        "model_name = 'Emotion_Voice_Detection_Model5.h5'\n",
        "save_dir = os.path.join(os.getcwd(), 'saved_models')\n",
        "# Save model and weights\n",
        "if not os.path.isdir(save_dir):\n",
        "    os.makedirs(save_dir)\n",
        "model_path = os.path.join(save_dir, model_name)\n",
        "model.save(model_path)\n",
        "print('Saved trained model at %s ' % model_path)"
      ],
      "execution_count": null,
      "outputs": [
        {
          "output_type": "stream",
          "text": [
            "Saved trained model at /content/saved_models/Emotion_Voice_Detection_Model5.h5 \n"
          ],
          "name": "stdout"
        }
      ]
    },
    {
      "cell_type": "code",
      "metadata": {
        "id": "m9caGC5zejif"
      },
      "source": [
        "import json\n",
        "model_json = model.to_json()\n",
        "with open(\"model5.json\", \"w\") as json_file:\n",
        "    json_file.write(model_json)"
      ],
      "execution_count": null,
      "outputs": []
    },
    {
      "cell_type": "code",
      "metadata": {
        "id": "6SfV9uWXHqEO"
      },
      "source": [
        ""
      ],
      "execution_count": null,
      "outputs": []
    }
  ]
}