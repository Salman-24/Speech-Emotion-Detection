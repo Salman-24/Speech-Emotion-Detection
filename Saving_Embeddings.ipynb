{
 "cells": [
  {
   "cell_type": "code",
   "execution_count": null,
   "metadata": {
    "id": "6-KrYe7HIOre"
   },
   "outputs": [],
   "source": [
    "!pip install ffmpeg-python\n",
    "!pip install -q transformers\n",
    "import torch\n",
    "import librosa\n",
    "import numpy as np\n",
    "from transformers import Wav2Vec2ForCTC, Wav2Vec2Tokenizer"
   ]
  },
  {
   "cell_type": "code",
   "execution_count": null,
   "metadata": {
    "id": "hSPKRz31IeyL"
   },
   "outputs": [],
   "source": [
    "from google.colab import drive\n",
    "drive.mount('/content/gdrive')"
   ]
  },
  {
   "cell_type": "code",
   "execution_count": null,
   "metadata": {
    "id": "0VzX4nnTIguJ"
   },
   "outputs": [],
   "source": [
    "!unzip -q \"/content/gdrive/MyDrive/Audio.zip\""
   ]
  },
  {
   "cell_type": "code",
   "execution_count": null,
   "metadata": {
    "id": "y7x0arLzKT2o"
   },
   "outputs": [],
   "source": [
    "audio_folder=\"/content/Compressed_audio/Compressed_audio/IEMOCAP_Compressed_br128_fs20/Session1/opus/\""
   ]
  },
  {
   "cell_type": "code",
   "execution_count": null,
   "metadata": {
    "id": "LSuCv4JFKYSe"
   },
   "outputs": [],
   "source": [
    "import os\n",
    "data1folder=os.listdir(audio_folder)"
   ]
  },
  {
   "cell_type": "code",
   "execution_count": null,
   "metadata": {
    "id": "G851aRGlKZPU"
   },
   "outputs": [],
   "source": [
    "import ffmpeg\n",
    "if not os.path.exists('wavs'):\n",
    "    os.makedirs('wavs')\n",
    "if not os.path.exists('embeddings'):\n",
    "    os.makedirs('embeddings')\n",
    "for i in range(0,len(data1folder)):\n",
    "  print(i,data1folder[i])\n",
    "  filename = data1folder[i].split('.opus')[0]\n",
    "  wav_filename = './wavs/' + filename + '.wav'\n",
    "  (ffmpeg.input(audio_folder+data1folder[i]).output(wav_filename).run())\n",
    "\n",
    "\n",
    "  "
   ]
  },
  {
   "cell_type": "code",
   "execution_count": null,
   "metadata": {
    "id": "4RlQdQaVIjJh"
   },
   "outputs": [],
   "source": [
    "import datetime\n",
    "\n",
    "pathAudio=\"./wavs\"\n",
    "files = librosa.util.find_files(pathAudio, ext=['wav']) \n",
    "files = np.asarray(files)\n",
    "\n",
    "tokenizer = Wav2Vec2Tokenizer.from_pretrained(\"facebook/wav2vec2-base-960h\")\n",
    "model = Wav2Vec2ForCTC.from_pretrained(\"facebook/wav2vec2-base-960h\").to(\"cuda\")\n",
    "\n",
    "for i,y in enumerate(files): \n",
    "  audio, rate  = librosa.load(y, sr = 16000)\n",
    "  # print(str(datetime.datetime.now()).split(' ')[1])\n",
    "  input_values = tokenizer(audio, return_tensors = \"pt\").input_values\n",
    "  logits = model(input_values.to(\"cuda\")).logits\n",
    "\n",
    "  print(\"Processed,\",i)\n",
    "  embedding = torch.tensor(logits,requires_grad=True)\n",
    "  embedding = embedding.detach().cpu().numpy()\n",
    "\n",
    "  filename = y.split('.wav')[0].split('/')[-1]\n",
    "  embedding_filename = './embeddings/' + filename + '.npy'\n",
    "  np.save(embedding_filename, embedding)\n",
    "  print(str(datetime.datetime.now()).split(' ')[1])\n",
    "\n"
   ]
  },
  {
   "cell_type": "code",
   "execution_count": null,
   "metadata": {
    "id": "lzZqLpdSKXH8"
   },
   "outputs": [],
   "source": [
    "!zip -r  embeddings.zip embeddings"
   ]
  },
  {
   "cell_type": "code",
   "execution_count": null,
   "metadata": {
    "id": "b-UEdw2YKqxM"
   },
   "outputs": [],
   "source": [
    "!cp embeddings.zip \"/content/gdrive/MyDrive/\""
   ]
  },
  {
   "cell_type": "code",
   "execution_count": null,
   "metadata": {
    "id": "RCZp-qedkure"
   },
   "outputs": [],
   "source": []
  }
 ],
 "metadata": {
  "accelerator": "GPU",
  "colab": {
   "collapsed_sections": [],
   "name": "Embeddings.ipynb",
   "provenance": []
  },
  "kernelspec": {
   "display_name": "Python 3",
   "language": "python",
   "name": "python3"
  },
  "language_info": {
   "codemirror_mode": {
    "name": "ipython",
    "version": 3
   },
   "file_extension": ".py",
   "mimetype": "text/x-python",
   "name": "python",
   "nbconvert_exporter": "python",
   "pygments_lexer": "ipython3",
   "version": "3.7.7"
  }
 },
 "nbformat": 4,
 "nbformat_minor": 1
}
