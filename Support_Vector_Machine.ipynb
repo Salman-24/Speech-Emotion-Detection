{
  "nbformat": 4,
  "nbformat_minor": 0,
  "metadata": {
    "colab": {
      "name": "Support_Vector_Machine.ipynb",
      "provenance": [],
      "collapsed_sections": []
    },
    "kernelspec": {
      "name": "python3",
      "display_name": "Python 3"
    },
    "language_info": {
      "name": "python"
    },
    "accelerator": "GPU"
  },
  "cells": [
    {
      "cell_type": "code",
      "metadata": {
        "colab": {
          "base_uri": "https://localhost:8080/"
        },
        "id": "4MPIFlhzmKem",
        "outputId": "1201cab3-08f1-4bec-d1b9-22ef87515c1a"
      },
      "source": [
        "from google.colab import drive\n",
        "drive.mount('/content/gdrive')"
      ],
      "execution_count": 2,
      "outputs": [
        {
          "output_type": "stream",
          "text": [
            "Mounted at /content/gdrive\n"
          ],
          "name": "stdout"
        }
      ]
    },
    {
      "cell_type": "code",
      "metadata": {
        "id": "3n-7TeqtmMVA"
      },
      "source": [
        "!unzip -q \"/content/gdrive/MyDrive/wavfiles/embeddings.zip\"\n"
      ],
      "execution_count": 3,
      "outputs": []
    },
    {
      "cell_type": "code",
      "metadata": {
        "id": "ABqbGbo8mVVb"
      },
      "source": [
        "audio_folder=\"/content/embeddings/\""
      ],
      "execution_count": 4,
      "outputs": []
    },
    {
      "cell_type": "code",
      "metadata": {
        "id": "DPoGCpTQmX4A"
      },
      "source": [
        "import os\n",
        "data1folder=os.listdir(audio_folder)"
      ],
      "execution_count": 5,
      "outputs": []
    },
    {
      "cell_type": "code",
      "metadata": {
        "id": "tcifmlAomZFU"
      },
      "source": [
        "data1folder"
      ],
      "execution_count": null,
      "outputs": []
    },
    {
      "cell_type": "code",
      "metadata": {
        "id": "WaWTBrZwmarz"
      },
      "source": [
        "import torch\n",
        "import librosa\n",
        "import numpy as np\n",
        "embeds=\"/content/embeddings/\"\n",
        "files = librosa.util.find_files(embeds, ext=['npy']) \n",
        "files = np.asarray(files)\n",
        "type(files)\n",
        "meanembeds=[]\n",
        "for i in files:\n",
        "  emb1=np.load(i)\n",
        "  a=torch.tensor(emb1)\n",
        "  prediction = a.mean(1)\n",
        "  print(prediction)\n",
        "  print(prediction.shape)\n",
        "  meanembeds.append(prediction)"
      ],
      "execution_count": null,
      "outputs": []
    },
    {
      "cell_type": "code",
      "metadata": {
        "colab": {
          "base_uri": "https://localhost:8080/"
        },
        "id": "filCmNOcnuRA",
        "outputId": "8a5086d4-88f3-4514-e295-5bfd5bfbe46e"
      },
      "source": [
        "meanembeds[0]"
      ],
      "execution_count": 9,
      "outputs": [
        {
          "output_type": "execute_result",
          "data": {
            "text/plain": [
              "tensor([[ 10.2650, -23.7845, -23.5158, -23.6307,   0.6292,  -0.8756,  -1.1795,\n",
              "          -2.1640,  -3.0192,  -2.0100,  -1.0749,  -1.6233,  -1.8331,  -3.0282,\n",
              "          -2.4041,  -2.4986,  -2.2611,  -2.9681,  -3.0374,  -3.8552,  -3.5169,\n",
              "          -1.9775,  -3.6619,  -3.4610,  -2.5273,  -4.6329,  -4.7428,  -4.8503,\n",
              "          -6.3165,  -5.4832,  -6.1702,  -5.0909]])"
            ]
          },
          "metadata": {
            "tags": []
          },
          "execution_count": 9
        }
      ]
    },
    {
      "cell_type": "code",
      "metadata": {
        "id": "H23cm8mNnV5v"
      },
      "source": [
        "embeddings=[]\n",
        "for i in meanembeds:\n",
        "  a=i.numpy()\n",
        "  l=a[0]\n",
        "  print(l)\n",
        "  embeddings.append(l)\n",
        "\n",
        "  "
      ],
      "execution_count": null,
      "outputs": []
    },
    {
      "cell_type": "code",
      "metadata": {
        "id": "ElP-ZT34FcfD"
      },
      "source": [
        "import pandas as pd\n",
        "df = pd.DataFrame(columns=['embeddings'])"
      ],
      "execution_count": 11,
      "outputs": []
    },
    {
      "cell_type": "code",
      "metadata": {
        "id": "6Yd2c75yFiTj"
      },
      "source": [
        "df['embeddings']=embeddings"
      ],
      "execution_count": 12,
      "outputs": []
    },
    {
      "cell_type": "code",
      "metadata": {
        "colab": {
          "base_uri": "https://localhost:8080/",
          "height": 402
        },
        "id": "w9An4ouaFkLf",
        "outputId": "19ae8539-1019-4b4e-e2ca-c79ec6c8915c"
      },
      "source": [
        "df"
      ],
      "execution_count": 13,
      "outputs": [
        {
          "output_type": "execute_result",
          "data": {
            "text/html": [
              "<div>\n",
              "<style scoped>\n",
              "    .dataframe tbody tr th:only-of-type {\n",
              "        vertical-align: middle;\n",
              "    }\n",
              "\n",
              "    .dataframe tbody tr th {\n",
              "        vertical-align: top;\n",
              "    }\n",
              "\n",
              "    .dataframe thead th {\n",
              "        text-align: right;\n",
              "    }\n",
              "</style>\n",
              "<table border=\"1\" class=\"dataframe\">\n",
              "  <thead>\n",
              "    <tr style=\"text-align: right;\">\n",
              "      <th></th>\n",
              "      <th>embeddings</th>\n",
              "    </tr>\n",
              "  </thead>\n",
              "  <tbody>\n",
              "    <tr>\n",
              "      <th>0</th>\n",
              "      <td>[10.264994, -23.784517, -23.515844, -23.630688...</td>\n",
              "    </tr>\n",
              "    <tr>\n",
              "      <th>1</th>\n",
              "      <td>[12.019276, -24.196888, -23.938843, -24.061504...</td>\n",
              "    </tr>\n",
              "    <tr>\n",
              "      <th>2</th>\n",
              "      <td>[10.897807, -24.367256, -24.09692, -24.218029,...</td>\n",
              "    </tr>\n",
              "    <tr>\n",
              "      <th>3</th>\n",
              "      <td>[9.627059, -22.097925, -21.901371, -21.990076,...</td>\n",
              "    </tr>\n",
              "    <tr>\n",
              "      <th>4</th>\n",
              "      <td>[8.844983, -23.588017, -23.4278, -23.490126, 0...</td>\n",
              "    </tr>\n",
              "    <tr>\n",
              "      <th>...</th>\n",
              "      <td>...</td>\n",
              "    </tr>\n",
              "    <tr>\n",
              "      <th>10034</th>\n",
              "      <td>[8.346877, -22.437504, -22.274395, -22.305025,...</td>\n",
              "    </tr>\n",
              "    <tr>\n",
              "      <th>10035</th>\n",
              "      <td>[8.06096, -22.289936, -22.14285, -22.228481, 1...</td>\n",
              "    </tr>\n",
              "    <tr>\n",
              "      <th>10036</th>\n",
              "      <td>[8.836262, -22.717813, -22.576782, -22.668253,...</td>\n",
              "    </tr>\n",
              "    <tr>\n",
              "      <th>10037</th>\n",
              "      <td>[7.265687, -21.073788, -20.937859, -20.993507,...</td>\n",
              "    </tr>\n",
              "    <tr>\n",
              "      <th>10038</th>\n",
              "      <td>[7.254952, -21.148144, -21.006895, -21.057905,...</td>\n",
              "    </tr>\n",
              "  </tbody>\n",
              "</table>\n",
              "<p>10039 rows × 1 columns</p>\n",
              "</div>"
            ],
            "text/plain": [
              "                                              embeddings\n",
              "0      [10.264994, -23.784517, -23.515844, -23.630688...\n",
              "1      [12.019276, -24.196888, -23.938843, -24.061504...\n",
              "2      [10.897807, -24.367256, -24.09692, -24.218029,...\n",
              "3      [9.627059, -22.097925, -21.901371, -21.990076,...\n",
              "4      [8.844983, -23.588017, -23.4278, -23.490126, 0...\n",
              "...                                                  ...\n",
              "10034  [8.346877, -22.437504, -22.274395, -22.305025,...\n",
              "10035  [8.06096, -22.289936, -22.14285, -22.228481, 1...\n",
              "10036  [8.836262, -22.717813, -22.576782, -22.668253,...\n",
              "10037  [7.265687, -21.073788, -20.937859, -20.993507,...\n",
              "10038  [7.254952, -21.148144, -21.006895, -21.057905,...\n",
              "\n",
              "[10039 rows x 1 columns]"
            ]
          },
          "metadata": {
            "tags": []
          },
          "execution_count": 13
        }
      ]
    },
    {
      "cell_type": "code",
      "metadata": {
        "colab": {
          "resources": {
            "http://localhost:8080/nbextensions/google.colab/files.js": {
              "data": "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",
              "ok": true,
              "headers": [
                [
                  "content-type",
                  "application/javascript"
                ]
              ],
              "status": 200,
              "status_text": ""
            }
          },
          "base_uri": "https://localhost:8080/",
          "height": 73
        },
        "id": "9BxIecCAnwLd",
        "outputId": "2294690f-05e7-4847-d571-bccbe0f65d4b"
      },
      "source": [
        "from google.colab import files\n",
        "\n",
        "uploaded = files.upload()"
      ],
      "execution_count": 14,
      "outputs": [
        {
          "output_type": "display_data",
          "data": {
            "text/html": [
              "\n",
              "     <input type=\"file\" id=\"files-d4ccf445-28e9-46d8-b6bc-c9c4e6537b59\" name=\"files[]\" multiple disabled\n",
              "        style=\"border:none\" />\n",
              "     <output id=\"result-d4ccf445-28e9-46d8-b6bc-c9c4e6537b59\">\n",
              "      Upload widget is only available when the cell has been executed in the\n",
              "      current browser session. Please rerun this cell to enable.\n",
              "      </output>\n",
              "      <script src=\"/nbextensions/google.colab/files.js\"></script> "
            ],
            "text/plain": [
              "<IPython.core.display.HTML object>"
            ]
          },
          "metadata": {
            "tags": []
          }
        },
        {
          "output_type": "stream",
          "text": [
            "Saving data (1).csv to data (1).csv\n"
          ],
          "name": "stdout"
        }
      ]
    },
    {
      "cell_type": "code",
      "metadata": {
        "colab": {
          "base_uri": "https://localhost:8080/",
          "height": 402
        },
        "id": "rvfleV6irUV4",
        "outputId": "f6550ac1-566b-41f3-a9b0-9dedc3ab3345"
      },
      "source": [
        "import pandas as pd\n",
        "dataset=pd.read_csv('/content/data (1).csv')\n",
        "dataset\n",
        "\n"
      ],
      "execution_count": 15,
      "outputs": [
        {
          "output_type": "execute_result",
          "data": {
            "text/html": [
              "<div>\n",
              "<style scoped>\n",
              "    .dataframe tbody tr th:only-of-type {\n",
              "        vertical-align: middle;\n",
              "    }\n",
              "\n",
              "    .dataframe tbody tr th {\n",
              "        vertical-align: top;\n",
              "    }\n",
              "\n",
              "    .dataframe thead th {\n",
              "        text-align: right;\n",
              "    }\n",
              "</style>\n",
              "<table border=\"1\" class=\"dataframe\">\n",
              "  <thead>\n",
              "    <tr style=\"text-align: right;\">\n",
              "      <th></th>\n",
              "      <th>Unnamed: 0</th>\n",
              "      <th>start_time</th>\n",
              "      <th>end_time</th>\n",
              "      <th>wav_file</th>\n",
              "      <th>emotion</th>\n",
              "      <th>val</th>\n",
              "      <th>act</th>\n",
              "      <th>dom</th>\n",
              "    </tr>\n",
              "  </thead>\n",
              "  <tbody>\n",
              "    <tr>\n",
              "      <th>0</th>\n",
              "      <td>0</td>\n",
              "      <td>7.2455</td>\n",
              "      <td>11.6400</td>\n",
              "      <td>Ses01F_impro04_F000</td>\n",
              "      <td>neu</td>\n",
              "      <td>3.0000</td>\n",
              "      <td>3.0000</td>\n",
              "      <td>3.0000</td>\n",
              "    </tr>\n",
              "    <tr>\n",
              "      <th>1</th>\n",
              "      <td>1</td>\n",
              "      <td>11.7448</td>\n",
              "      <td>16.1500</td>\n",
              "      <td>Ses01F_impro04_F001</td>\n",
              "      <td>neu</td>\n",
              "      <td>2.5000</td>\n",
              "      <td>2.5000</td>\n",
              "      <td>3.0000</td>\n",
              "    </tr>\n",
              "    <tr>\n",
              "      <th>2</th>\n",
              "      <td>2</td>\n",
              "      <td>18.6000</td>\n",
              "      <td>30.8976</td>\n",
              "      <td>Ses01F_impro04_F002</td>\n",
              "      <td>fru</td>\n",
              "      <td>2.5000</td>\n",
              "      <td>3.5000</td>\n",
              "      <td>3.0000</td>\n",
              "    </tr>\n",
              "    <tr>\n",
              "      <th>3</th>\n",
              "      <td>3</td>\n",
              "      <td>35.0090</td>\n",
              "      <td>37.8000</td>\n",
              "      <td>Ses01F_impro04_F003</td>\n",
              "      <td>xxx</td>\n",
              "      <td>2.5000</td>\n",
              "      <td>3.0000</td>\n",
              "      <td>2.5000</td>\n",
              "    </tr>\n",
              "    <tr>\n",
              "      <th>4</th>\n",
              "      <td>4</td>\n",
              "      <td>40.2300</td>\n",
              "      <td>41.9500</td>\n",
              "      <td>Ses01F_impro04_F004</td>\n",
              "      <td>xxx</td>\n",
              "      <td>2.5000</td>\n",
              "      <td>2.5000</td>\n",
              "      <td>2.0000</td>\n",
              "    </tr>\n",
              "    <tr>\n",
              "      <th>...</th>\n",
              "      <td>...</td>\n",
              "      <td>...</td>\n",
              "      <td>...</td>\n",
              "      <td>...</td>\n",
              "      <td>...</td>\n",
              "      <td>...</td>\n",
              "      <td>...</td>\n",
              "      <td>...</td>\n",
              "    </tr>\n",
              "    <tr>\n",
              "      <th>10034</th>\n",
              "      <td>2165</td>\n",
              "      <td>188.6500</td>\n",
              "      <td>199.4600</td>\n",
              "      <td>Ses05M_impro02_M028</td>\n",
              "      <td>sad</td>\n",
              "      <td>2.3333</td>\n",
              "      <td>4.0000</td>\n",
              "      <td>2.6667</td>\n",
              "    </tr>\n",
              "    <tr>\n",
              "      <th>10035</th>\n",
              "      <td>2166</td>\n",
              "      <td>200.1000</td>\n",
              "      <td>202.3900</td>\n",
              "      <td>Ses05M_impro02_M029</td>\n",
              "      <td>sad</td>\n",
              "      <td>3.6667</td>\n",
              "      <td>4.0000</td>\n",
              "      <td>2.3333</td>\n",
              "    </tr>\n",
              "    <tr>\n",
              "      <th>10036</th>\n",
              "      <td>2167</td>\n",
              "      <td>202.4500</td>\n",
              "      <td>207.4200</td>\n",
              "      <td>Ses05M_impro02_M030</td>\n",
              "      <td>exc</td>\n",
              "      <td>2.6667</td>\n",
              "      <td>3.3333</td>\n",
              "      <td>3.3333</td>\n",
              "    </tr>\n",
              "    <tr>\n",
              "      <th>10037</th>\n",
              "      <td>2168</td>\n",
              "      <td>207.4300</td>\n",
              "      <td>212.1200</td>\n",
              "      <td>Ses05M_impro02_M031</td>\n",
              "      <td>xxx</td>\n",
              "      <td>3.0000</td>\n",
              "      <td>3.3333</td>\n",
              "      <td>3.3333</td>\n",
              "    </tr>\n",
              "    <tr>\n",
              "      <th>10038</th>\n",
              "      <td>2169</td>\n",
              "      <td>213.4500</td>\n",
              "      <td>217.5800</td>\n",
              "      <td>Ses05M_impro02_M032</td>\n",
              "      <td>xxx</td>\n",
              "      <td>3.3333</td>\n",
              "      <td>2.6667</td>\n",
              "      <td>2.3333</td>\n",
              "    </tr>\n",
              "  </tbody>\n",
              "</table>\n",
              "<p>10039 rows × 8 columns</p>\n",
              "</div>"
            ],
            "text/plain": [
              "       Unnamed: 0  start_time  end_time  ...     val     act     dom\n",
              "0               0      7.2455   11.6400  ...  3.0000  3.0000  3.0000\n",
              "1               1     11.7448   16.1500  ...  2.5000  2.5000  3.0000\n",
              "2               2     18.6000   30.8976  ...  2.5000  3.5000  3.0000\n",
              "3               3     35.0090   37.8000  ...  2.5000  3.0000  2.5000\n",
              "4               4     40.2300   41.9500  ...  2.5000  2.5000  2.0000\n",
              "...           ...         ...       ...  ...     ...     ...     ...\n",
              "10034        2165    188.6500  199.4600  ...  2.3333  4.0000  2.6667\n",
              "10035        2166    200.1000  202.3900  ...  3.6667  4.0000  2.3333\n",
              "10036        2167    202.4500  207.4200  ...  2.6667  3.3333  3.3333\n",
              "10037        2168    207.4300  212.1200  ...  3.0000  3.3333  3.3333\n",
              "10038        2169    213.4500  217.5800  ...  3.3333  2.6667  2.3333\n",
              "\n",
              "[10039 rows x 8 columns]"
            ]
          },
          "metadata": {
            "tags": []
          },
          "execution_count": 15
        }
      ]
    },
    {
      "cell_type": "code",
      "metadata": {
        "id": "Dq26EOI6sXzK"
      },
      "source": [
        "df_combined = pd.concat([dataset,pd.DataFrame(df['embeddings'])],axis=1)\n",
        "#df_combined1= df_combined[df_combined.New_Emotions != 'Others']"
      ],
      "execution_count": 16,
      "outputs": []
    },
    {
      "cell_type": "code",
      "metadata": {
        "colab": {
          "base_uri": "https://localhost:8080/",
          "height": 402
        },
        "id": "Hq4ge6iLi5xo",
        "outputId": "ec50155f-2937-448c-e0dd-18f8e4195c49"
      },
      "source": [
        "df_combined\n",
        "#df_combined1.New_Emotions.value_counts()"
      ],
      "execution_count": 17,
      "outputs": [
        {
          "output_type": "execute_result",
          "data": {
            "text/html": [
              "<div>\n",
              "<style scoped>\n",
              "    .dataframe tbody tr th:only-of-type {\n",
              "        vertical-align: middle;\n",
              "    }\n",
              "\n",
              "    .dataframe tbody tr th {\n",
              "        vertical-align: top;\n",
              "    }\n",
              "\n",
              "    .dataframe thead th {\n",
              "        text-align: right;\n",
              "    }\n",
              "</style>\n",
              "<table border=\"1\" class=\"dataframe\">\n",
              "  <thead>\n",
              "    <tr style=\"text-align: right;\">\n",
              "      <th></th>\n",
              "      <th>Unnamed: 0</th>\n",
              "      <th>start_time</th>\n",
              "      <th>end_time</th>\n",
              "      <th>wav_file</th>\n",
              "      <th>emotion</th>\n",
              "      <th>val</th>\n",
              "      <th>act</th>\n",
              "      <th>dom</th>\n",
              "      <th>embeddings</th>\n",
              "    </tr>\n",
              "  </thead>\n",
              "  <tbody>\n",
              "    <tr>\n",
              "      <th>0</th>\n",
              "      <td>0</td>\n",
              "      <td>7.2455</td>\n",
              "      <td>11.6400</td>\n",
              "      <td>Ses01F_impro04_F000</td>\n",
              "      <td>neu</td>\n",
              "      <td>3.0000</td>\n",
              "      <td>3.0000</td>\n",
              "      <td>3.0000</td>\n",
              "      <td>[10.264994, -23.784517, -23.515844, -23.630688...</td>\n",
              "    </tr>\n",
              "    <tr>\n",
              "      <th>1</th>\n",
              "      <td>1</td>\n",
              "      <td>11.7448</td>\n",
              "      <td>16.1500</td>\n",
              "      <td>Ses01F_impro04_F001</td>\n",
              "      <td>neu</td>\n",
              "      <td>2.5000</td>\n",
              "      <td>2.5000</td>\n",
              "      <td>3.0000</td>\n",
              "      <td>[12.019276, -24.196888, -23.938843, -24.061504...</td>\n",
              "    </tr>\n",
              "    <tr>\n",
              "      <th>2</th>\n",
              "      <td>2</td>\n",
              "      <td>18.6000</td>\n",
              "      <td>30.8976</td>\n",
              "      <td>Ses01F_impro04_F002</td>\n",
              "      <td>fru</td>\n",
              "      <td>2.5000</td>\n",
              "      <td>3.5000</td>\n",
              "      <td>3.0000</td>\n",
              "      <td>[10.897807, -24.367256, -24.09692, -24.218029,...</td>\n",
              "    </tr>\n",
              "    <tr>\n",
              "      <th>3</th>\n",
              "      <td>3</td>\n",
              "      <td>35.0090</td>\n",
              "      <td>37.8000</td>\n",
              "      <td>Ses01F_impro04_F003</td>\n",
              "      <td>xxx</td>\n",
              "      <td>2.5000</td>\n",
              "      <td>3.0000</td>\n",
              "      <td>2.5000</td>\n",
              "      <td>[9.627059, -22.097925, -21.901371, -21.990076,...</td>\n",
              "    </tr>\n",
              "    <tr>\n",
              "      <th>4</th>\n",
              "      <td>4</td>\n",
              "      <td>40.2300</td>\n",
              "      <td>41.9500</td>\n",
              "      <td>Ses01F_impro04_F004</td>\n",
              "      <td>xxx</td>\n",
              "      <td>2.5000</td>\n",
              "      <td>2.5000</td>\n",
              "      <td>2.0000</td>\n",
              "      <td>[8.844983, -23.588017, -23.4278, -23.490126, 0...</td>\n",
              "    </tr>\n",
              "    <tr>\n",
              "      <th>...</th>\n",
              "      <td>...</td>\n",
              "      <td>...</td>\n",
              "      <td>...</td>\n",
              "      <td>...</td>\n",
              "      <td>...</td>\n",
              "      <td>...</td>\n",
              "      <td>...</td>\n",
              "      <td>...</td>\n",
              "      <td>...</td>\n",
              "    </tr>\n",
              "    <tr>\n",
              "      <th>10034</th>\n",
              "      <td>2165</td>\n",
              "      <td>188.6500</td>\n",
              "      <td>199.4600</td>\n",
              "      <td>Ses05M_impro02_M028</td>\n",
              "      <td>sad</td>\n",
              "      <td>2.3333</td>\n",
              "      <td>4.0000</td>\n",
              "      <td>2.6667</td>\n",
              "      <td>[8.346877, -22.437504, -22.274395, -22.305025,...</td>\n",
              "    </tr>\n",
              "    <tr>\n",
              "      <th>10035</th>\n",
              "      <td>2166</td>\n",
              "      <td>200.1000</td>\n",
              "      <td>202.3900</td>\n",
              "      <td>Ses05M_impro02_M029</td>\n",
              "      <td>sad</td>\n",
              "      <td>3.6667</td>\n",
              "      <td>4.0000</td>\n",
              "      <td>2.3333</td>\n",
              "      <td>[8.06096, -22.289936, -22.14285, -22.228481, 1...</td>\n",
              "    </tr>\n",
              "    <tr>\n",
              "      <th>10036</th>\n",
              "      <td>2167</td>\n",
              "      <td>202.4500</td>\n",
              "      <td>207.4200</td>\n",
              "      <td>Ses05M_impro02_M030</td>\n",
              "      <td>exc</td>\n",
              "      <td>2.6667</td>\n",
              "      <td>3.3333</td>\n",
              "      <td>3.3333</td>\n",
              "      <td>[8.836262, -22.717813, -22.576782, -22.668253,...</td>\n",
              "    </tr>\n",
              "    <tr>\n",
              "      <th>10037</th>\n",
              "      <td>2168</td>\n",
              "      <td>207.4300</td>\n",
              "      <td>212.1200</td>\n",
              "      <td>Ses05M_impro02_M031</td>\n",
              "      <td>xxx</td>\n",
              "      <td>3.0000</td>\n",
              "      <td>3.3333</td>\n",
              "      <td>3.3333</td>\n",
              "      <td>[7.265687, -21.073788, -20.937859, -20.993507,...</td>\n",
              "    </tr>\n",
              "    <tr>\n",
              "      <th>10038</th>\n",
              "      <td>2169</td>\n",
              "      <td>213.4500</td>\n",
              "      <td>217.5800</td>\n",
              "      <td>Ses05M_impro02_M032</td>\n",
              "      <td>xxx</td>\n",
              "      <td>3.3333</td>\n",
              "      <td>2.6667</td>\n",
              "      <td>2.3333</td>\n",
              "      <td>[7.254952, -21.148144, -21.006895, -21.057905,...</td>\n",
              "    </tr>\n",
              "  </tbody>\n",
              "</table>\n",
              "<p>10039 rows × 9 columns</p>\n",
              "</div>"
            ],
            "text/plain": [
              "       Unnamed: 0  ...                                         embeddings\n",
              "0               0  ...  [10.264994, -23.784517, -23.515844, -23.630688...\n",
              "1               1  ...  [12.019276, -24.196888, -23.938843, -24.061504...\n",
              "2               2  ...  [10.897807, -24.367256, -24.09692, -24.218029,...\n",
              "3               3  ...  [9.627059, -22.097925, -21.901371, -21.990076,...\n",
              "4               4  ...  [8.844983, -23.588017, -23.4278, -23.490126, 0...\n",
              "...           ...  ...                                                ...\n",
              "10034        2165  ...  [8.346877, -22.437504, -22.274395, -22.305025,...\n",
              "10035        2166  ...  [8.06096, -22.289936, -22.14285, -22.228481, 1...\n",
              "10036        2167  ...  [8.836262, -22.717813, -22.576782, -22.668253,...\n",
              "10037        2168  ...  [7.265687, -21.073788, -20.937859, -20.993507,...\n",
              "10038        2169  ...  [7.254952, -21.148144, -21.006895, -21.057905,...\n",
              "\n",
              "[10039 rows x 9 columns]"
            ]
          },
          "metadata": {
            "tags": []
          },
          "execution_count": 17
        }
      ]
    },
    {
      "cell_type": "code",
      "metadata": {
        "colab": {
          "base_uri": "https://localhost:8080/"
        },
        "id": "yfmN08Xdo58N",
        "outputId": "69ddc4db-d062-4363-9fb1-42a6e88157b4"
      },
      "source": [
        "df_combined.isnull().sum()"
      ],
      "execution_count": 18,
      "outputs": [
        {
          "output_type": "execute_result",
          "data": {
            "text/plain": [
              "Unnamed: 0    0\n",
              "start_time    0\n",
              "end_time      0\n",
              "wav_file      0\n",
              "emotion       0\n",
              "val           0\n",
              "act           0\n",
              "dom           0\n",
              "embeddings    0\n",
              "dtype: int64"
            ]
          },
          "metadata": {
            "tags": []
          },
          "execution_count": 18
        }
      ]
    },
    {
      "cell_type": "code",
      "metadata": {
        "colab": {
          "base_uri": "https://localhost:8080/",
          "height": 195
        },
        "id": "MJWqvgSpuFzC",
        "outputId": "9760146e-27a0-40cc-cc66-6382f9c7ef6a"
      },
      "source": [
        "extracted_features_df=pd.DataFrame(df_combined,columns=['embeddings','emotion'])\n",
        "extracted_features_df.head()"
      ],
      "execution_count": 19,
      "outputs": [
        {
          "output_type": "execute_result",
          "data": {
            "text/html": [
              "<div>\n",
              "<style scoped>\n",
              "    .dataframe tbody tr th:only-of-type {\n",
              "        vertical-align: middle;\n",
              "    }\n",
              "\n",
              "    .dataframe tbody tr th {\n",
              "        vertical-align: top;\n",
              "    }\n",
              "\n",
              "    .dataframe thead th {\n",
              "        text-align: right;\n",
              "    }\n",
              "</style>\n",
              "<table border=\"1\" class=\"dataframe\">\n",
              "  <thead>\n",
              "    <tr style=\"text-align: right;\">\n",
              "      <th></th>\n",
              "      <th>embeddings</th>\n",
              "      <th>emotion</th>\n",
              "    </tr>\n",
              "  </thead>\n",
              "  <tbody>\n",
              "    <tr>\n",
              "      <th>0</th>\n",
              "      <td>[10.264994, -23.784517, -23.515844, -23.630688...</td>\n",
              "      <td>neu</td>\n",
              "    </tr>\n",
              "    <tr>\n",
              "      <th>1</th>\n",
              "      <td>[12.019276, -24.196888, -23.938843, -24.061504...</td>\n",
              "      <td>neu</td>\n",
              "    </tr>\n",
              "    <tr>\n",
              "      <th>2</th>\n",
              "      <td>[10.897807, -24.367256, -24.09692, -24.218029,...</td>\n",
              "      <td>fru</td>\n",
              "    </tr>\n",
              "    <tr>\n",
              "      <th>3</th>\n",
              "      <td>[9.627059, -22.097925, -21.901371, -21.990076,...</td>\n",
              "      <td>xxx</td>\n",
              "    </tr>\n",
              "    <tr>\n",
              "      <th>4</th>\n",
              "      <td>[8.844983, -23.588017, -23.4278, -23.490126, 0...</td>\n",
              "      <td>xxx</td>\n",
              "    </tr>\n",
              "  </tbody>\n",
              "</table>\n",
              "</div>"
            ],
            "text/plain": [
              "                                          embeddings emotion\n",
              "0  [10.264994, -23.784517, -23.515844, -23.630688...     neu\n",
              "1  [12.019276, -24.196888, -23.938843, -24.061504...     neu\n",
              "2  [10.897807, -24.367256, -24.09692, -24.218029,...     fru\n",
              "3  [9.627059, -22.097925, -21.901371, -21.990076,...     xxx\n",
              "4  [8.844983, -23.588017, -23.4278, -23.490126, 0...     xxx"
            ]
          },
          "metadata": {
            "tags": []
          },
          "execution_count": 19
        }
      ]
    },
    {
      "cell_type": "code",
      "metadata": {
        "id": "PqToDhqXuGWC"
      },
      "source": [
        "X=np.array(extracted_features_df['embeddings'].tolist())\n",
        "y=np.array(extracted_features_df['emotion'].tolist())"
      ],
      "execution_count": 20,
      "outputs": []
    },
    {
      "cell_type": "code",
      "metadata": {
        "colab": {
          "base_uri": "https://localhost:8080/"
        },
        "id": "bNJbs4kxPSIj",
        "outputId": "d08719ce-1fa9-439c-9997-b626dc08b474"
      },
      "source": [
        "X.shape"
      ],
      "execution_count": 21,
      "outputs": [
        {
          "output_type": "execute_result",
          "data": {
            "text/plain": [
              "(10039, 32)"
            ]
          },
          "metadata": {
            "tags": []
          },
          "execution_count": 21
        }
      ]
    },
    {
      "cell_type": "code",
      "metadata": {
        "colab": {
          "base_uri": "https://localhost:8080/"
        },
        "id": "fwls2fPwRraX",
        "outputId": "c3a03564-a227-4e29-ecfd-fcfab1b8d549"
      },
      "source": [
        "y"
      ],
      "execution_count": 22,
      "outputs": [
        {
          "output_type": "execute_result",
          "data": {
            "text/plain": [
              "array(['neu', 'neu', 'fru', ..., 'exc', 'xxx', 'xxx'], dtype='<U3')"
            ]
          },
          "metadata": {
            "tags": []
          },
          "execution_count": 22
        }
      ]
    },
    {
      "cell_type": "code",
      "metadata": {
        "id": "CejMczj60V-Z"
      },
      "source": [
        "from sklearn.model_selection import train_test_split\n",
        "X_train,X_test,y_train,y_test=train_test_split(X,y,test_size=0.25)"
      ],
      "execution_count": 23,
      "outputs": []
    },
    {
      "cell_type": "code",
      "metadata": {
        "colab": {
          "base_uri": "https://localhost:8080/"
        },
        "id": "Q9M1owwRR8z_",
        "outputId": "8042c59d-2625-434a-d924-d6658076527e"
      },
      "source": [
        "X_train\n",
        "\n"
      ],
      "execution_count": 24,
      "outputs": [
        {
          "output_type": "execute_result",
          "data": {
            "text/plain": [
              "array([[  7.5632744, -20.98142  , -20.843277 , ...,  -5.120206 ,\n",
              "         -6.2572193,  -5.3445854],\n",
              "       [ 10.667673 , -25.061613 , -24.852907 , ...,  -6.5133214,\n",
              "         -7.608611 ,  -6.9560914],\n",
              "       [  8.145374 , -21.620167 , -21.44092  , ...,  -5.512573 ,\n",
              "         -6.532639 ,  -6.7301693],\n",
              "       ...,\n",
              "       [  9.187946 , -22.85539  , -22.713148 , ...,  -5.4477954,\n",
              "         -6.9443297,  -6.465404 ],\n",
              "       [  9.226863 , -22.709846 , -22.534836 , ...,  -6.1703224,\n",
              "         -7.186205 ,  -6.013169 ],\n",
              "       [  7.0915117, -20.224741 , -20.08576  , ...,  -4.9980426,\n",
              "         -5.4614606,  -6.1238494]], dtype=float32)"
            ]
          },
          "metadata": {
            "tags": []
          },
          "execution_count": 24
        }
      ]
    },
    {
      "cell_type": "code",
      "metadata": {
        "colab": {
          "base_uri": "https://localhost:8080/"
        },
        "id": "56PNF-IVSBAX",
        "outputId": "b82afc5a-ecca-4c08-dceb-ab7286cb881e"
      },
      "source": [
        "X_train.shape\n"
      ],
      "execution_count": 25,
      "outputs": [
        {
          "output_type": "execute_result",
          "data": {
            "text/plain": [
              "(7529, 32)"
            ]
          },
          "metadata": {
            "tags": []
          },
          "execution_count": 25
        }
      ]
    },
    {
      "cell_type": "code",
      "metadata": {
        "colab": {
          "base_uri": "https://localhost:8080/"
        },
        "id": "nbU5r0qXSC94",
        "outputId": "6b5d2df1-eb3a-4c69-8cf9-154846b0b055"
      },
      "source": [
        "X_test.shape"
      ],
      "execution_count": 26,
      "outputs": [
        {
          "output_type": "execute_result",
          "data": {
            "text/plain": [
              "(2510, 32)"
            ]
          },
          "metadata": {
            "tags": []
          },
          "execution_count": 26
        }
      ]
    },
    {
      "cell_type": "code",
      "metadata": {
        "colab": {
          "base_uri": "https://localhost:8080/"
        },
        "id": "5RIsJno5SFgs",
        "outputId": "d2f51088-3338-4058-e80e-5ab7cf91927d"
      },
      "source": [
        "y_train.shape"
      ],
      "execution_count": 27,
      "outputs": [
        {
          "output_type": "execute_result",
          "data": {
            "text/plain": [
              "(7529,)"
            ]
          },
          "metadata": {
            "tags": []
          },
          "execution_count": 27
        }
      ]
    },
    {
      "cell_type": "code",
      "metadata": {
        "colab": {
          "base_uri": "https://localhost:8080/"
        },
        "id": "CnHS0EmBSHgw",
        "outputId": "7061590c-c99e-430a-8bcc-01b10241f00e"
      },
      "source": [
        "y_test.shape"
      ],
      "execution_count": 28,
      "outputs": [
        {
          "output_type": "execute_result",
          "data": {
            "text/plain": [
              "(2510,)"
            ]
          },
          "metadata": {
            "tags": []
          },
          "execution_count": 28
        }
      ]
    },
    {
      "cell_type": "code",
      "metadata": {
        "id": "3KVDK8EySJNg",
        "colab": {
          "base_uri": "https://localhost:8080/"
        },
        "outputId": "5a190840-5617-4bd0-9d64-c0cac6856e73"
      },
      "source": [
        "from sklearn.svm import SVC\n",
        "classifier = SVC(C=0.001,kernel='poly', gamma=0.001)\n",
        "classifier.fit(X_train, y_train)"
      ],
      "execution_count": 29,
      "outputs": [
        {
          "output_type": "execute_result",
          "data": {
            "text/plain": [
              "SVC(C=0.001, break_ties=False, cache_size=200, class_weight=None, coef0=0.0,\n",
              "    decision_function_shape='ovr', degree=3, gamma=0.001, kernel='poly',\n",
              "    max_iter=-1, probability=False, random_state=None, shrinking=True,\n",
              "    tol=0.001, verbose=False)"
            ]
          },
          "metadata": {
            "tags": []
          },
          "execution_count": 29
        }
      ]
    },
    {
      "cell_type": "code",
      "metadata": {
        "colab": {
          "base_uri": "https://localhost:8080/"
        },
        "id": "IO1oCld3KDB7",
        "outputId": "fe73791f-14df-4c9f-c1de-4f724084d1a1"
      },
      "source": [
        "y_pred = classifier.predict(X_test)\n",
        "from sklearn.metrics import accuracy_score\n",
        "print(accuracy_score(y_test,y_pred)*100)"
      ],
      "execution_count": 30,
      "outputs": [
        {
          "output_type": "stream",
          "text": [
            "25.617529880478084\n"
          ],
          "name": "stdout"
        }
      ]
    },
    {
      "cell_type": "code",
      "metadata": {
        "id": "1j_nP9U0xWLc"
      },
      "source": [
        ""
      ],
      "execution_count": null,
      "outputs": []
    },
    {
      "cell_type": "code",
      "metadata": {
        "id": "QNJCZZxM1whZ"
      },
      "source": [
        ""
      ],
      "execution_count": null,
      "outputs": []
    }
  ]
}